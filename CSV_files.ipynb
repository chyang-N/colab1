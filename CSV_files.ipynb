{
  "cells": [
    {
      "cell_type": "code",
      "execution_count": null,
      "metadata": {
        "id": "kAk1HfwmBMOx",
        "outputId": "d1d6b858-b7b5-4952-a6d2-73f1a1e447a4"
      },
      "outputs": [
        {
          "name": "stdout",
          "output_type": "stream",
          "text": [
            "請輸入班級人數：5\n",
            "座號, 數學, 英文, 國文\n",
            "1, 79, 88, 49\n",
            "2, 10, 63, 15\n",
            "3, 87, 74, 88\n",
            "4, 97, 55, 99\n",
            "5, 8, 71, 35\n"
          ]
        }
      ],
      "source": [
        "#寫入CSV檔案(自製)\n",
        "\n",
        "#產生\"座號\", \"數學\", \"英文\", \"國文\"\n",
        "import random\n",
        "n = int(input(\"請輸入班級人數：\"))\n",
        "list_id = [x for x in range(1,n+1)]                        #產生n位學生的座號串列\n",
        "list_math = [random.randint(0,100) for x in range(n)]      #產生n位學生的數學成績串列\n",
        "list_english = [random.randint(0,100) for x in range(n)]   #產生n位學生的英文成績串列\n",
        "list_chinese = [random.randint(0,100) for x in range(n)]   #產生n位學生的國文成績串列\n",
        "list_head = [\"座號\", \"數學\", \"英文\", \"國文\"]\n",
        "print(f\"{list_head[0]}, {list_head[1]}, {list_head[2]}, {list_head[3]}\")\n",
        "for i in range(n):\n",
        "    print(f\"{list_id[i]}, {list_math[i]}, {list_english[i]}, {list_chinese[i]}\")\n",
        "\n",
        "file1 = open(\"f1.txt\", \"w\")\n",
        "file1.write(f\"{list_head[0]}, {list_head[1]}, {list_head[2]}, {list_head[3]}\\n\")  #寫入表頭\n",
        "for i in range(n):\n",
        "    file1.write(f\"{list_id[i]}, {list_math[i]}, {list_english[i]}, {list_chinese[i]}\\n\")  #寫入第i位學生的資料\n",
        "file1.close()"
      ]
    },
    {
      "cell_type": "code",
      "execution_count": null,
      "metadata": {
        "id": "NA2T7lk5BMO1",
        "outputId": "e807ac37-5688-4457-ebda-e8c720103ba7"
      },
      "outputs": [
        {
          "name": "stdout",
          "output_type": "stream",
          "text": [
            "['座號', ' 數學', ' 英文', ' 國文']\n",
            "[['1', ' 79', ' 88', ' 49'], ['2', ' 10', ' 63', ' 15'], ['3', ' 87', ' 74', ' 88'], ['4', ' 97', ' 55', ' 99'], ['5', ' 8', ' 71', ' 35']]\n",
            "標題串列：\n",
            "['座號', ' 數學', ' 英文', ' 國文']\n",
            "數值串列：\n",
            "[[1, 79, 88, 49], [2, 10, 63, 15], [3, 87, 74, 88], [4, 97, 55, 99], [5, 8, 71, 35]]\n",
            "數值串列(加上平均)：\n",
            "[[1, 79, 88, 49, 72.0], [2, 10, 63, 15, 29.3], [3, 87, 74, 88, 83.0], [4, 97, 55, 99, 83.7], [5, 8, 71, 35, 38.0]]\n",
            "\n",
            "各科平均分數：\n",
            " 數學 平均： 56.2\n",
            " 英文 平均： 70.2\n",
            " 國文 平均： 57.2\n",
            "\n",
            "依平均分數遞減排序：\n",
            " 座號   數學   英文   國文   平均 \n",
            "  4     97     55     99   83.7 \n",
            "  3     87     74     88   83.0 \n",
            "  1     79     88     49   72.0 \n",
            "  5     8      71     35   38.0 \n",
            "  2     10     63     15   29.3 \n"
          ]
        }
      ],
      "source": [
        "#讀取CSV檔案(自製)\n",
        "\n",
        "f=open('f1.txt','r')\n",
        "list_head = []\n",
        "list_data = []\n",
        "line = f.readline()\n",
        "line = line.strip()      #刪除前後空格(必須執行，才能刪除\\n)\n",
        "list_head = line.split(\",\")  #利用\",\"分割\n",
        "#print(list_head)\n",
        "\n",
        "line = f.readline()\n",
        "while line:\n",
        "    #print(line,end=\"\")\n",
        "    line = line.strip()  #刪除前後空格\n",
        "    s = line.split(\",\")  #利用\",\"分割\n",
        "    #print(s)\n",
        "    list_data.append(s)\n",
        "    line = f.readline()\n",
        "print(list_head)\n",
        "print(list_data)\n",
        "\n",
        "for i in range(len(list_data)):\n",
        "    for j in range(len(list_data[i])):\n",
        "        list_data[i][j] = int(list_data[i][j])  #轉成整數型態\n",
        "\n",
        "print(\"標題串列：\")\n",
        "print(list_head)\n",
        "print(\"數值串列：\")\n",
        "print(list_data)\n",
        "\n",
        "sum1=0\n",
        "sum2=0\n",
        "sum3=0\n",
        "for item in list_data:\n",
        "    sum1 = sum1 + item[1]\n",
        "    sum2 = sum2 + item[2]\n",
        "    sum3 = sum3 + item[3]\n",
        "    item.append(round((item[1]+item[2]+item[3])/3,1))  #求出三科平均\n",
        "\n",
        "print(\"數值串列(加上平均)：\")\n",
        "print(list_data)\n",
        "\n",
        "print()\n",
        "print(\"各科平均分數：\")\n",
        "print(list_head[1],\"平均：\",round(sum1 / len(list_data),1))\n",
        "print(list_head[2],\"平均：\",round(sum2 / len(list_data),1))\n",
        "print(list_head[3],\"平均：\",round(sum3 / len(list_data),1))\n",
        "list_data.sort(reverse=True,key=lambda e:e[4])\n",
        "list_head.append('平均')\n",
        "print()\n",
        "print(\"依平均分數遞減排序：\")\n",
        "print(\"{:^4s} {:^4s} {:^4s} {:^4s} {:^4s}\".format(list_head[0],list_head[1],list_head[2],list_head[3],list_head[4]))\n",
        "for item in list_data:\n",
        "    print(\"{:^6d}{:^6d} {:^6d} {:^6d}{:^6.1f}\".format(item[0],item[1],item[2],item[3],item[4]))"
      ]
    },
    {
      "cell_type": "code",
      "execution_count": null,
      "metadata": {
        "id": "NuDHv3LQBMO2",
        "outputId": "aff52ec4-94d7-409c-b5cc-34a63f7db0d7"
      },
      "outputs": [
        {
          "name": "stdout",
          "output_type": "stream",
          "text": [
            "請輸入班級人數：5\n",
            "座號, 數學, 英文, 國文\n",
            "1, 55, 62, 16\n",
            "2, 72, 79, 69\n",
            "3, 32, 1, 66\n",
            "4, 46, 47, 77\n",
            "5, 13, 67, 69\n"
          ]
        }
      ],
      "source": [
        "#Python 讀取與寫入CSV 檔案教學與範例 - G. T. Wang\n",
        "#https://blog.gtwang.org/programming/python-csv-file-reading-and-writing-tutorial/\n",
        "\n",
        "#寫入CSV檔案(使用csv模組)\n",
        "\n",
        "import csv\n",
        "\n",
        "#產生\"座號\", \"數學\", \"英文\", \"國文\"\n",
        "import random\n",
        "n = int(input(\"請輸入班級人數：\"))\n",
        "list_id = [x for x in range(1,n+1)]                        #產生n位學生的座號串列\n",
        "list_math = [random.randint(0,100) for x in range(n)]      #產生n位學生的數學成績串列\n",
        "list_english = [random.randint(0,100) for x in range(n)]   #產生n位學生的英文成績串列\n",
        "list_chinese = [random.randint(0,100) for x in range(n)]   #產生n位學生的國文成績串列\n",
        "list_head = [\"座號\", \"數學\", \"英文\", \"國文\"]\n",
        "print(f\"{list_head[0]}, {list_head[1]}, {list_head[2]}, {list_head[3]}\")\n",
        "for i in range(n):\n",
        "    print(f\"{i+1}, {list_math[i]}, {list_english[i]}, {list_chinese[i]}\")\n",
        "\n",
        "# 開啟輸出的 CSV 檔案\n",
        "with open('f2.csv', 'w', newline='') as csvfile:\n",
        "    # 建立 CSV 檔寫入器\n",
        "    writer = csv.writer(csvfile)\n",
        "\n",
        "    # 寫入一列資料\n",
        "    writer.writerow([\"座號\", \"數學\", \"英文\", \"國文\"])  #寫入表頭\n",
        "\n",
        "    # 寫入另外幾列資料\n",
        "    for i in range(n):\n",
        "        writer.writerow([list_id[i],list_math[i],list_english[i],list_chinese[i]])  #寫入第i位學生的資料"
      ]
    },
    {
      "cell_type": "code",
      "execution_count": null,
      "metadata": {
        "id": "hj4Tlb40BMO3",
        "outputId": "deaa44aa-5ecc-4d3c-ceb2-f35ea0892fcb"
      },
      "outputs": [
        {
          "name": "stdout",
          "output_type": "stream",
          "text": [
            "['座號', '數學', '英文', '國文']\n",
            "['1', '55', '62', '16']\n",
            "['2', '72', '79', '69']\n",
            "['3', '32', '1', '66']\n",
            "['4', '46', '47', '77']\n",
            "['5', '13', '67', '69']\n"
          ]
        }
      ],
      "source": [
        "#讀取CSV檔案(使用csv模組)\n",
        "\n",
        "import csv\n",
        "\n",
        "# 開啟 CSV 檔案\n",
        "with open('f2.csv', newline='') as csvfile:\n",
        "\n",
        "  # 讀取 CSV 檔案內容\n",
        "    rows = csv.reader(csvfile)  #預設delimiter=','\n",
        "\n",
        "  # 以迴圈輸出每一列\n",
        "    for row in rows:\n",
        "        print(row)"
      ]
    },
    {
      "cell_type": "code",
      "execution_count": null,
      "metadata": {
        "id": "z1Z7VLenBMO3",
        "outputId": "d307a574-b5a4-4b94-96e4-3166585be376"
      },
      "outputs": [
        {
          "name": "stdout",
          "output_type": "stream",
          "text": [
            "Header: ['座號', '數學', '英文', '國文']\n",
            "['1', '55', '62', '16']\n",
            "['2', '72', '79', '69']\n",
            "['3', '32', '1', '66']\n",
            "['4', '46', '47', '77']\n",
            "['5', '13', '67', '69']\n"
          ]
        }
      ],
      "source": [
        "#Python 讀取csv 檔案 - ShengYu Talk\n",
        "#https://shengyu7697.github.io/python-read-csv-file/\n",
        "\n",
        "#讀取CSV檔案(使用csv模組)\n",
        "\n",
        "import csv\n",
        "\n",
        "# 開啟 CSV 檔案\n",
        "with open('f2.csv', newline='') as csvfile:\n",
        "\n",
        "  # 讀取 CSV 檔案內容\n",
        "    rows = csv.reader(csvfile, delimiter=',')  #預設delimiter=','\n",
        "    headers = next(rows)\n",
        "    print(\"Header:\",headers)\n",
        "    for row in rows:\n",
        "        print(row)"
      ]
    },
    {
      "cell_type": "code",
      "execution_count": null,
      "metadata": {
        "id": "1y3wx2U4BMO4",
        "outputId": "6303270b-19d8-450d-8176-bb5d2b1806f5"
      },
      "outputs": [
        {
          "name": "stdout",
          "output_type": "stream",
          "text": [
            "['座號', '數學', '英文', '國文']\n",
            "[['1', '55', '62', '16'], ['2', '72', '79', '69'], ['3', '32', '1', '66'], ['4', '46', '47', '77'], ['5', '13', '67', '69']]\n",
            "標題串列：\n",
            "['座號', '數學', '英文', '國文']\n",
            "數值串列：\n",
            "[[1, 55, 62, 16], [2, 72, 79, 69], [3, 32, 1, 66], [4, 46, 47, 77], [5, 13, 67, 69]]\n",
            "數值串列(加上平均)：\n",
            "[[1, 55, 62, 16, 44.3], [2, 72, 79, 69, 73.3], [3, 32, 1, 66, 33.0], [4, 46, 47, 77, 56.7], [5, 13, 67, 69, 49.7]]\n",
            "\n",
            "各科平均分數：\n",
            "數學 平均： 43.6\n",
            "英文 平均： 51.2\n",
            "國文 平均： 59.4\n",
            "\n",
            "依平均分數遞減排序：\n",
            " 座號   數學   英文   國文   平均 \n",
            "  2     72     79     69   73.3 \n",
            "  4     46     47     77   56.7 \n",
            "  5     13     67     69   49.7 \n",
            "  1     55     62     16   44.3 \n",
            "  3     32     1      66   33.0 \n"
          ]
        }
      ],
      "source": [
        "#Python 讀取csv 檔案 - ShengYu Talk\n",
        "#https://shengyu7697.github.io/python-read-csv-file/\n",
        "\n",
        "#讀取CSV檔案(使用csv模組)\n",
        "\n",
        "import csv\n",
        "\n",
        "list_data = []\n",
        "\n",
        "# 開啟 CSV 檔案\n",
        "with open('f2.csv', newline='') as csvfile:\n",
        "    # 讀取 CSV 檔案內容\n",
        "    rows = csv.reader(csvfile, delimiter=',')  #預設delimiter=','\n",
        "    list_head = next(rows)\n",
        "    for row in rows:\n",
        "        list_data.append(row)\n",
        "\n",
        "print(list_head)\n",
        "print(list_data)\n",
        "\n",
        "\n",
        "for i in range(len(list_data)):\n",
        "    for j in range(len(list_data[i])):\n",
        "        list_data[i][j] = int(list_data[i][j])  #轉成整數型態\n",
        "\n",
        "print(\"標題串列：\")\n",
        "print(list_head)\n",
        "print(\"數值串列：\")\n",
        "print(list_data)\n",
        "\n",
        "sum1=0\n",
        "sum2=0\n",
        "sum3=0\n",
        "for item in list_data:\n",
        "    sum1 = sum1 + item[1]\n",
        "    sum2 = sum2 + item[2]\n",
        "    sum3 = sum3 + item[3]\n",
        "    item.append(round((item[1]+item[2]+item[3])/3,1))  #求出三科平均\n",
        "\n",
        "print(\"數值串列(加上平均)：\")\n",
        "print(list_data)\n",
        "\n",
        "print()\n",
        "print(\"各科平均分數：\")\n",
        "print(list_head[1],\"平均：\",round(sum1 / len(list_data),1))\n",
        "print(list_head[2],\"平均：\",round(sum2 / len(list_data),1))\n",
        "print(list_head[3],\"平均：\",round(sum3 / len(list_data),1))\n",
        "list_data.sort(reverse=True,key=lambda e:e[4])\n",
        "list_head.append('平均')\n",
        "print()\n",
        "print(\"依平均分數遞減排序：\")\n",
        "print(\"{:^4s} {:^4s} {:^4s} {:^4s} {:^4s}\".format(list_head[0],list_head[1],list_head[2],list_head[3],list_head[4]))\n",
        "for item in list_data:\n",
        "    print(\"{:^6d}{:^6d} {:^6d} {:^6d}{:^6.1f}\".format(item[0],item[1],item[2],item[3],item[4]))"
      ]
    },
    {
      "cell_type": "code",
      "execution_count": null,
      "metadata": {
        "id": "_l9RXI2qBMO4",
        "outputId": "c2517db7-714c-411f-8ab5-a7671d58bd04"
      },
      "outputs": [
        {
          "name": "stdout",
          "output_type": "stream",
          "text": [
            "[['座號', '數學', '英文', '國文'], ['1', '55', '62', '16'], ['2', '72', '79', '69'], ['3', '32', '1', '66'], ['4', '46', '47', '77'], ['5', '13', '67', '69']]\n",
            "['座號', '數學', '英文', '國文']\n",
            "[['1', '55', '62', '16'], ['2', '72', '79', '69'], ['3', '32', '1', '66'], ['4', '46', '47', '77'], ['5', '13', '67', '69']]\n"
          ]
        }
      ],
      "source": [
        "#讀取CSV檔案(使用csv模組)\n",
        "#用list()直接轉成串列\n",
        "\n",
        "#Python 讀取csv 檔案 - ShengYu Talk\n",
        "#https://shengyu7697.github.io/python-read-csv-file/\n",
        "\n",
        "#處理List\n",
        "#https://www.w3schools.com/python/python_lists.asp\n",
        "\n",
        "import csv\n",
        "\n",
        "# 開啟 CSV 檔案\n",
        "with open('f2.csv', newline='') as csvfile:\n",
        "\n",
        "  # 讀取 CSV 檔案內容\n",
        "    rows = csv.reader(csvfile, delimiter=',')  #預設delimiter=','  rows為_csv.reader object\n",
        "    list_data = list(rows)  #使用list()方法，將rows轉出串列\n",
        "\n",
        "print(list_data)\n",
        "list_head = list_data.pop(0)  #list_data.pop(0)移除串列的第0個元素\n",
        "print(list_head)\n",
        "print(list_data)\n"
      ]
    },
    {
      "cell_type": "code",
      "execution_count": 1,
      "metadata": {
        "id": "7Nh0QXAoBMO5",
        "outputId": "eeb986c4-a216-4de3-82f1-26553fb5e65e",
        "colab": {
          "base_uri": "https://localhost:8080/"
        }
      },
      "outputs": [
        {
          "output_type": "stream",
          "name": "stdout",
          "text": [
            "/content\n"
          ]
        }
      ],
      "source": [
        "!pwd"
      ]
    }
  ],
  "metadata": {
    "kernelspec": {
      "display_name": "Python 3",
      "language": "python",
      "name": "python3"
    },
    "language_info": {
      "codemirror_mode": {
        "name": "ipython",
        "version": 3
      },
      "file_extension": ".py",
      "mimetype": "text/x-python",
      "name": "python",
      "nbconvert_exporter": "python",
      "pygments_lexer": "ipython3",
      "version": "3.8.5"
    },
    "colab": {
      "provenance": []
    }
  },
  "nbformat": 4,
  "nbformat_minor": 0
}