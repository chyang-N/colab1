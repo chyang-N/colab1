{
  "nbformat": 4,
  "nbformat_minor": 0,
  "metadata": {
    "colab": {
      "provenance": [],
      "mount_file_id": "1SM0EhVJmMtDhKtVvp-RQkhhgQ0MwrXRD",
      "authorship_tag": "ABX9TyOz3JWQYmk46LBf1CuGbVvu",
      "include_colab_link": true
    },
    "kernelspec": {
      "name": "python3",
      "display_name": "Python 3"
    },
    "language_info": {
      "name": "python"
    }
  },
  "cells": [
    {
      "cell_type": "markdown",
      "metadata": {
        "id": "view-in-github",
        "colab_type": "text"
      },
      "source": [
        "<a href=\"https://colab.research.google.com/github/chyang-N/colab1/blob/main/mount_t1.ipynb\" target=\"_parent\"><img src=\"https://colab.research.google.com/assets/colab-badge.svg\" alt=\"Open In Colab\"/></a>"
      ]
    },
    {
      "cell_type": "code",
      "execution_count": 1,
      "metadata": {
        "colab": {
          "base_uri": "https://localhost:8080/"
        },
        "id": "wKb2q6aW2Eax",
        "outputId": "cc251906-65c4-48e0-850a-e8fea9337e9d"
      },
      "outputs": [
        {
          "output_type": "stream",
          "name": "stdout",
          "text": [
            "/content\n",
            "sample_data\n"
          ]
        }
      ],
      "source": [
        "!pwd\n",
        "!ls"
      ]
    },
    {
      "cell_type": "code",
      "source": [
        "#目前工作目錄/content\n",
        "#寫入CSV檔案(自製)\n",
        "\n",
        "#產生\"座號\", \"數學\", \"英文\", \"國文\"\n",
        "import random\n",
        "n = int(input(\"請輸入班級人數：\"))\n",
        "list_id = [x for x in range(1,n+1)]                        #產生n位學生的座號串列\n",
        "list_math = [random.randint(0,100) for x in range(n)]      #產生n位學生的數學成績串列\n",
        "list_english = [random.randint(0,100) for x in range(n)]   #產生n位學生的英文成績串列\n",
        "list_chinese = [random.randint(0,100) for x in range(n)]   #產生n位學生的國文成績串列\n",
        "list_head = [\"座號\", \"數學\", \"英文\", \"國文\"]\n",
        "print(f\"{list_head[0]}, {list_head[1]}, {list_head[2]}, {list_head[3]}\")\n",
        "for i in range(n):\n",
        "    print(f\"{list_id[i]}, {list_math[i]}, {list_english[i]}, {list_chinese[i]}\")\n",
        "\n",
        "file1 = open(\"f1.txt\", \"w\")\n",
        "file1.write(f\"{list_head[0]}, {list_head[1]}, {list_head[2]}, {list_head[3]}\\n\")  #寫入表頭\n",
        "for i in range(n):\n",
        "    file1.write(f\"{list_id[i]}, {list_math[i]}, {list_english[i]}, {list_chinese[i]}\\n\")  #寫入第i位學生的資料\n",
        "file1.close()"
      ],
      "metadata": {
        "colab": {
          "base_uri": "https://localhost:8080/"
        },
        "id": "4ed8ciCD2sEi",
        "outputId": "f4aef2a5-4a30-4ffe-ce57-c5a5424883dd"
      },
      "execution_count": 2,
      "outputs": [
        {
          "output_type": "stream",
          "name": "stdout",
          "text": [
            "請輸入班級人數：5\n",
            "座號, 數學, 英文, 國文\n",
            "1, 40, 36, 36\n",
            "2, 78, 42, 16\n",
            "3, 44, 91, 13\n",
            "4, 67, 97, 72\n",
            "5, 36, 71, 64\n"
          ]
        }
      ]
    },
    {
      "cell_type": "code",
      "source": [
        "#使用程式碼來mount雲端硬碟\n",
        "from google.colab import drive\n",
        "drive.mount('/content/drive')\n"
      ],
      "metadata": {
        "colab": {
          "base_uri": "https://localhost:8080/",
          "height": 377
        },
        "id": "Wix681dN4vIb",
        "outputId": "bbc10e60-6d84-47f8-b560-62245086ce95"
      },
      "execution_count": 3,
      "outputs": [
        {
          "output_type": "error",
          "ename": "MessageError",
          "evalue": "ignored",
          "traceback": [
            "\u001b[0;31m---------------------------------------------------------------------------\u001b[0m",
            "\u001b[0;31mMessageError\u001b[0m                              Traceback (most recent call last)",
            "\u001b[0;32m<ipython-input-3-553346fb54ca>\u001b[0m in \u001b[0;36m<cell line: 3>\u001b[0;34m()\u001b[0m\n\u001b[1;32m      1\u001b[0m \u001b[0;31m#使用程式碼來mount雲端硬碟\u001b[0m\u001b[0;34m\u001b[0m\u001b[0;34m\u001b[0m\u001b[0m\n\u001b[1;32m      2\u001b[0m \u001b[0;32mfrom\u001b[0m \u001b[0mgoogle\u001b[0m\u001b[0;34m.\u001b[0m\u001b[0mcolab\u001b[0m \u001b[0;32mimport\u001b[0m \u001b[0mdrive\u001b[0m\u001b[0;34m\u001b[0m\u001b[0;34m\u001b[0m\u001b[0m\n\u001b[0;32m----> 3\u001b[0;31m \u001b[0mdrive\u001b[0m\u001b[0;34m.\u001b[0m\u001b[0mmount\u001b[0m\u001b[0;34m(\u001b[0m\u001b[0;34m'/content/drive'\u001b[0m\u001b[0;34m)\u001b[0m\u001b[0;34m\u001b[0m\u001b[0;34m\u001b[0m\u001b[0m\n\u001b[0m",
            "\u001b[0;32m/usr/local/lib/python3.10/dist-packages/google/colab/drive.py\u001b[0m in \u001b[0;36mmount\u001b[0;34m(mountpoint, force_remount, timeout_ms, readonly)\u001b[0m\n\u001b[1;32m    101\u001b[0m \u001b[0;32mdef\u001b[0m \u001b[0mmount\u001b[0m\u001b[0;34m(\u001b[0m\u001b[0mmountpoint\u001b[0m\u001b[0;34m,\u001b[0m \u001b[0mforce_remount\u001b[0m\u001b[0;34m=\u001b[0m\u001b[0;32mFalse\u001b[0m\u001b[0;34m,\u001b[0m \u001b[0mtimeout_ms\u001b[0m\u001b[0;34m=\u001b[0m\u001b[0;36m120000\u001b[0m\u001b[0;34m,\u001b[0m \u001b[0mreadonly\u001b[0m\u001b[0;34m=\u001b[0m\u001b[0;32mFalse\u001b[0m\u001b[0;34m)\u001b[0m\u001b[0;34m:\u001b[0m\u001b[0;34m\u001b[0m\u001b[0;34m\u001b[0m\u001b[0m\n\u001b[1;32m    102\u001b[0m   \u001b[0;34m\"\"\"Mount your Google Drive at the specified mountpoint path.\"\"\"\u001b[0m\u001b[0;34m\u001b[0m\u001b[0;34m\u001b[0m\u001b[0m\n\u001b[0;32m--> 103\u001b[0;31m   return _mount(\n\u001b[0m\u001b[1;32m    104\u001b[0m       \u001b[0mmountpoint\u001b[0m\u001b[0;34m,\u001b[0m\u001b[0;34m\u001b[0m\u001b[0;34m\u001b[0m\u001b[0m\n\u001b[1;32m    105\u001b[0m       \u001b[0mforce_remount\u001b[0m\u001b[0;34m=\u001b[0m\u001b[0mforce_remount\u001b[0m\u001b[0;34m,\u001b[0m\u001b[0;34m\u001b[0m\u001b[0;34m\u001b[0m\u001b[0m\n",
            "\u001b[0;32m/usr/local/lib/python3.10/dist-packages/google/colab/drive.py\u001b[0m in \u001b[0;36m_mount\u001b[0;34m(mountpoint, force_remount, timeout_ms, ephemeral, readonly)\u001b[0m\n\u001b[1;32m    130\u001b[0m   )\n\u001b[1;32m    131\u001b[0m   \u001b[0;32mif\u001b[0m \u001b[0mephemeral\u001b[0m\u001b[0;34m:\u001b[0m\u001b[0;34m\u001b[0m\u001b[0;34m\u001b[0m\u001b[0m\n\u001b[0;32m--> 132\u001b[0;31m     _message.blocking_request(\n\u001b[0m\u001b[1;32m    133\u001b[0m         \u001b[0;34m'request_auth'\u001b[0m\u001b[0;34m,\u001b[0m \u001b[0mrequest\u001b[0m\u001b[0;34m=\u001b[0m\u001b[0;34m{\u001b[0m\u001b[0;34m'authType'\u001b[0m\u001b[0;34m:\u001b[0m \u001b[0;34m'dfs_ephemeral'\u001b[0m\u001b[0;34m}\u001b[0m\u001b[0;34m,\u001b[0m \u001b[0mtimeout_sec\u001b[0m\u001b[0;34m=\u001b[0m\u001b[0;32mNone\u001b[0m\u001b[0;34m\u001b[0m\u001b[0;34m\u001b[0m\u001b[0m\n\u001b[1;32m    134\u001b[0m     )\n",
            "\u001b[0;32m/usr/local/lib/python3.10/dist-packages/google/colab/_message.py\u001b[0m in \u001b[0;36mblocking_request\u001b[0;34m(request_type, request, timeout_sec, parent)\u001b[0m\n\u001b[1;32m    174\u001b[0m       \u001b[0mrequest_type\u001b[0m\u001b[0;34m,\u001b[0m \u001b[0mrequest\u001b[0m\u001b[0;34m,\u001b[0m \u001b[0mparent\u001b[0m\u001b[0;34m=\u001b[0m\u001b[0mparent\u001b[0m\u001b[0;34m,\u001b[0m \u001b[0mexpect_reply\u001b[0m\u001b[0;34m=\u001b[0m\u001b[0;32mTrue\u001b[0m\u001b[0;34m\u001b[0m\u001b[0;34m\u001b[0m\u001b[0m\n\u001b[1;32m    175\u001b[0m   )\n\u001b[0;32m--> 176\u001b[0;31m   \u001b[0;32mreturn\u001b[0m \u001b[0mread_reply_from_input\u001b[0m\u001b[0;34m(\u001b[0m\u001b[0mrequest_id\u001b[0m\u001b[0;34m,\u001b[0m \u001b[0mtimeout_sec\u001b[0m\u001b[0;34m)\u001b[0m\u001b[0;34m\u001b[0m\u001b[0;34m\u001b[0m\u001b[0m\n\u001b[0m",
            "\u001b[0;32m/usr/local/lib/python3.10/dist-packages/google/colab/_message.py\u001b[0m in \u001b[0;36mread_reply_from_input\u001b[0;34m(message_id, timeout_sec)\u001b[0m\n\u001b[1;32m    101\u001b[0m     ):\n\u001b[1;32m    102\u001b[0m       \u001b[0;32mif\u001b[0m \u001b[0;34m'error'\u001b[0m \u001b[0;32min\u001b[0m \u001b[0mreply\u001b[0m\u001b[0;34m:\u001b[0m\u001b[0;34m\u001b[0m\u001b[0;34m\u001b[0m\u001b[0m\n\u001b[0;32m--> 103\u001b[0;31m         \u001b[0;32mraise\u001b[0m \u001b[0mMessageError\u001b[0m\u001b[0;34m(\u001b[0m\u001b[0mreply\u001b[0m\u001b[0;34m[\u001b[0m\u001b[0;34m'error'\u001b[0m\u001b[0;34m]\u001b[0m\u001b[0;34m)\u001b[0m\u001b[0;34m\u001b[0m\u001b[0;34m\u001b[0m\u001b[0m\n\u001b[0m\u001b[1;32m    104\u001b[0m       \u001b[0;32mreturn\u001b[0m \u001b[0mreply\u001b[0m\u001b[0;34m.\u001b[0m\u001b[0mget\u001b[0m\u001b[0;34m(\u001b[0m\u001b[0;34m'data'\u001b[0m\u001b[0;34m,\u001b[0m \u001b[0;32mNone\u001b[0m\u001b[0;34m)\u001b[0m\u001b[0;34m\u001b[0m\u001b[0;34m\u001b[0m\u001b[0m\n\u001b[1;32m    105\u001b[0m \u001b[0;34m\u001b[0m\u001b[0m\n",
            "\u001b[0;31mMessageError\u001b[0m: Error: credential propagation was unsuccessful"
          ]
        }
      ]
    },
    {
      "cell_type": "code",
      "source": [
        "%cd \"/content/drive/MyDrive/Colab Notebooks\"\n",
        "!pwd"
      ],
      "metadata": {
        "colab": {
          "base_uri": "https://localhost:8080/"
        },
        "id": "8g7AjqtWs5-s",
        "outputId": "f007af8b-a6a3-443d-900f-a9d88f755659"
      },
      "execution_count": 5,
      "outputs": [
        {
          "output_type": "stream",
          "name": "stdout",
          "text": [
            "/content/drive/MyDrive/Colab Notebooks\n",
            "/content/drive/MyDrive/Colab Notebooks\n"
          ]
        }
      ]
    },
    {
      "cell_type": "code",
      "source": [
        "#切換工作目錄\n",
        "%cd \"/content/drive/MyDrive/Colab Notebooks\"\n",
        "!pwd"
      ],
      "metadata": {
        "colab": {
          "base_uri": "https://localhost:8080/"
        },
        "id": "qVJeNvwQ50uM",
        "outputId": "30fb1c8f-7bf3-454a-c737-32cca6d509ad"
      },
      "execution_count": null,
      "outputs": [
        {
          "output_type": "stream",
          "name": "stdout",
          "text": [
            "/content/drive/MyDrive/Colab Notebooks\n",
            "/content/drive/MyDrive/Colab Notebooks\n"
          ]
        }
      ]
    },
    {
      "cell_type": "code",
      "source": [
        "#目前工作目錄\"/content/drive/MyDrive/Colab Notebooks\"\n",
        "#寫入CSV檔案(自製)\n",
        "\n",
        "#產生\"座號\", \"數學\", \"英文\", \"國文\"\n",
        "import random\n",
        "n = int(input(\"請輸入班級人數：\"))\n",
        "list_id = [x for x in range(1,n+1)]                        #產生n位學生的座號串列\n",
        "list_math = [random.randint(0,100) for x in range(n)]      #產生n位學生的數學成績串列\n",
        "list_english = [random.randint(0,100) for x in range(n)]   #產生n位學生的英文成績串列\n",
        "list_chinese = [random.randint(0,100) for x in range(n)]   #產生n位學生的國文成績串列\n",
        "list_head = [\"座號\", \"數學\", \"英文\", \"國文\"]\n",
        "print(f\"{list_head[0]}, {list_head[1]}, {list_head[2]}, {list_head[3]}\")\n",
        "for i in range(n):\n",
        "    print(f\"{list_id[i]}, {list_math[i]}, {list_english[i]}, {list_chinese[i]}\")\n",
        "\n",
        "file1 = open(\"f2.txt\", \"w\")\n",
        "file1.write(f\"{list_head[0]}, {list_head[1]}, {list_head[2]}, {list_head[3]}\\n\")  #寫入表頭\n",
        "for i in range(n):\n",
        "    file1.write(f\"{list_id[i]}, {list_math[i]}, {list_english[i]}, {list_chinese[i]}\\n\")  #寫入第i位學生的資料\n",
        "file1.close()"
      ],
      "metadata": {
        "colab": {
          "base_uri": "https://localhost:8080/"
        },
        "id": "V24RmXjE6res",
        "outputId": "723f1b1e-f02a-409e-972d-2dbb4e668c0a"
      },
      "execution_count": null,
      "outputs": [
        {
          "output_type": "stream",
          "name": "stdout",
          "text": [
            "請輸入班級人數：3\n",
            "座號, 數學, 英文, 國文\n",
            "1, 50, 61, 22\n",
            "2, 34, 31, 4\n",
            "3, 86, 57, 80\n"
          ]
        }
      ]
    },
    {
      "cell_type": "code",
      "source": [
        "#切換工作目錄\n",
        "import os\n",
        "os.chdir('/content')\n",
        "print(os.getcwd())   # /content"
      ],
      "metadata": {
        "colab": {
          "base_uri": "https://localhost:8080/"
        },
        "id": "j4nPiqs18KAN",
        "outputId": "4d6c30e3-2a44-47ed-ea10-4ffef413421b"
      },
      "execution_count": null,
      "outputs": [
        {
          "output_type": "stream",
          "name": "stdout",
          "text": [
            "/content\n"
          ]
        }
      ]
    },
    {
      "cell_type": "code",
      "source": [
        "#目前工作目錄/content\n",
        "#使用絕對路徑\"/content/drive/MyDrive/Colab Notebooks/f3.txt\"\n",
        "#寫入CSV檔案(自製)\n",
        "\n",
        "#產生\"座號\", \"數學\", \"英文\", \"國文\"\n",
        "import random\n",
        "n = int(input(\"請輸入班級人數：\"))\n",
        "list_id = [x for x in range(1,n+1)]                        #產生n位學生的座號串列\n",
        "list_math = [random.randint(0,100) for x in range(n)]      #產生n位學生的數學成績串列\n",
        "list_english = [random.randint(0,100) for x in range(n)]   #產生n位學生的英文成績串列\n",
        "list_chinese = [random.randint(0,100) for x in range(n)]   #產生n位學生的國文成績串列\n",
        "list_head = [\"座號\", \"數學\", \"英文\", \"國文\"]\n",
        "print(f\"{list_head[0]}, {list_head[1]}, {list_head[2]}, {list_head[3]}\")\n",
        "for i in range(n):\n",
        "    print(f\"{list_id[i]}, {list_math[i]}, {list_english[i]}, {list_chinese[i]}\")\n",
        "\n",
        "file1 = open(\"/content/drive/MyDrive/Colab Notebooks/f3.txt\", \"w\")\n",
        "file1.write(f\"{list_head[0]}, {list_head[1]}, {list_head[2]}, {list_head[3]}\\n\")  #寫入表頭\n",
        "for i in range(n):\n",
        "    file1.write(f\"{list_id[i]}, {list_math[i]}, {list_english[i]}, {list_chinese[i]}\\n\")  #寫入第i位學生的資料\n",
        "file1.close()"
      ],
      "metadata": {
        "colab": {
          "base_uri": "https://localhost:8080/"
        },
        "id": "dUIWDwju82lJ",
        "outputId": "38212aa2-4ac9-4484-afbc-d1b5206b35f6"
      },
      "execution_count": null,
      "outputs": [
        {
          "output_type": "stream",
          "name": "stdout",
          "text": [
            "請輸入班級人數：5\n",
            "座號, 數學, 英文, 國文\n",
            "1, 72, 25, 37\n",
            "2, 20, 16, 11\n",
            "3, 79, 46, 17\n",
            "4, 79, 47, 38\n",
            "5, 82, 13, 81\n"
          ]
        }
      ]
    },
    {
      "cell_type": "code",
      "source": [
        "%cd /content\n",
        "!pwd"
      ],
      "metadata": {
        "colab": {
          "base_uri": "https://localhost:8080/"
        },
        "id": "E6rVbqpn8fGo",
        "outputId": "64a7602d-0e72-4725-81b7-39b4765d049b"
      },
      "execution_count": 7,
      "outputs": [
        {
          "output_type": "stream",
          "name": "stdout",
          "text": [
            "/content\n",
            "/content\n"
          ]
        }
      ]
    },
    {
      "cell_type": "code",
      "source": [
        "!git clone https://github.com/chyang-N/colab1.git"
      ],
      "metadata": {
        "colab": {
          "base_uri": "https://localhost:8080/"
        },
        "id": "h89S2okN8voF",
        "outputId": "b8459224-ec41-41c0-ef5a-1529f85e5be8"
      },
      "execution_count": 8,
      "outputs": [
        {
          "output_type": "stream",
          "name": "stdout",
          "text": [
            "Cloning into 'colab1'...\n",
            "remote: Enumerating objects: 4, done.\u001b[K\n",
            "remote: Counting objects: 100% (4/4), done.\u001b[K\n",
            "remote: Compressing objects: 100% (4/4), done.\u001b[K\n",
            "remote: Total 4 (delta 0), reused 0 (delta 0), pack-reused 0\u001b[K\n",
            "Receiving objects: 100% (4/4), done.\n"
          ]
        }
      ]
    },
    {
      "cell_type": "code",
      "source": [
        "!git clone https://github.com/chyang-N/colab1/blob/main/CSV_files.ipynb"
      ],
      "metadata": {
        "colab": {
          "base_uri": "https://localhost:8080/"
        },
        "id": "gxPSru7A-39H",
        "outputId": "4f65f1c8-f105-405d-ceba-7fefdecc097a"
      },
      "execution_count": 9,
      "outputs": [
        {
          "output_type": "stream",
          "name": "stdout",
          "text": [
            "Cloning into 'CSV_files.ipynb'...\n",
            "fatal: repository 'https://github.com/chyang-N/colab1/blob/main/CSV_files.ipynb/' not found\n"
          ]
        }
      ]
    },
    {
      "cell_type": "code",
      "source": [
        "!wget https://github.com/chyang-N/colab1/blob/main/CSV_files.ipynb"
      ],
      "metadata": {
        "colab": {
          "base_uri": "https://localhost:8080/"
        },
        "id": "5WXrTbb1_Rm7",
        "outputId": "4591f0cb-b9eb-49cc-d772-84a466fc9e3b"
      },
      "execution_count": 10,
      "outputs": [
        {
          "output_type": "stream",
          "name": "stdout",
          "text": [
            "--2023-09-11 16:05:17--  https://github.com/chyang-N/colab1/blob/main/CSV_files.ipynb\n",
            "Resolving github.com (github.com)... 20.27.177.113\n",
            "Connecting to github.com (github.com)|20.27.177.113|:443... connected.\n",
            "HTTP request sent, awaiting response... 200 OK\n",
            "Length: 20574 (20K) [text/plain]\n",
            "Saving to: ‘CSV_files.ipynb’\n",
            "\n",
            "CSV_files.ipynb     100%[===================>]  20.09K  --.-KB/s    in 0.05s   \n",
            "\n",
            "2023-09-11 16:05:18 (432 KB/s) - ‘CSV_files.ipynb’ saved [20574/20574]\n",
            "\n"
          ]
        }
      ]
    }
  ]
}